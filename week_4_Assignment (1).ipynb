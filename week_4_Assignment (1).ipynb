{
 "cells": [
  {
   "cell_type": "markdown",
   "id": "abba0561",
   "metadata": {},
   "source": [
    "# Question: Build a Python program utilizing data structures, conditional statements, and functions to solve a data-related task"
   ]
  },
  {
   "cell_type": "markdown",
   "id": "918ee325",
   "metadata": {},
   "source": [
    "## Considering a scenario where 3mtt fellows have to log in to their dashboard to access their information. "
   ]
  },
  {
   "cell_type": "markdown",
   "id": "c95326f1",
   "metadata": {},
   "source": [
    "### Program Parameters"
   ]
  },
  {
   "cell_type": "markdown",
   "id": "05854e3e",
   "metadata": {},
   "source": [
    "### 1. Data Structure (dictionary)\n",
    "### 2. Conditional statement (if, elif, else)\n",
    "### 3. Import library\n",
    "### 4. Using library to mask password input\n",
    "### 5. Use default password as 0000"
   ]
  },
  {
   "cell_type": "markdown",
   "id": "389744ae",
   "metadata": {},
   "source": [
    "### CREATING A DICTIONARY FOR 3MTT FELLOWS"
   ]
  },
  {
   "cell_type": "markdown",
   "id": "309b2061",
   "metadata": {},
   "source": [
    "### 1. Using dictionaries as database for 3mtt fellows"
   ]
  },
  {
   "cell_type": "code",
   "execution_count": 9,
   "id": "5bd72ce0",
   "metadata": {},
   "outputs": [
    {
     "name": "stdout",
     "output_type": "stream",
     "text": [
      "WELLCOME TO 3MTT DASHBOARD\n",
      "PLEASE ENTER LOGIN DETAILS\n",
      "Enter Password ········\n",
      "\n",
      "correct!\n",
      "Enter Name AMINA\n",
      "{'Name:-': 'Amina Musa', 'Email:-': 'musaamina@gmail.com', 'Address:-': 'No.5 yelwawa', 'Age:-': '26-32', 'Gender:-': 'Female', 'State of residence:-': 'Jigawa', 'State of origin:-': 'Jigawa', 'Skill level:-': 'Beginner level'}\n"
     ]
    }
   ],
   "source": [
    "# creating profile for 3mtt fellows\n",
    "amina = {'Name:-' : 'Amina Musa', 'Email:-' : 'musaamina@gmail.com', 'Address:-' : 'No.5 yelwawa', 'Age:-' : '26-32', 'Gender:-' : 'Female', 'State of residence:-' : 'Jigawa', 'State of origin:-' : 'Jigawa', 'Skill level:-': 'Beginner level'}\n",
    "aisha = {'Name:-' : 'Aisha Auwal', 'Email:-' : 'auwalaisha@gmail.com', 'Address:-' : 'No.7 kuntau', 'Age:-' : '23-26', 'Gender:-' : 'Female', 'State of residence:-' : 'Kano', 'State of origin:-' : 'Kano', 'Skill level:-': 'Beginner level'}\n",
    "khalid = {'Name:-' : 'Khalid Mansur', 'Email:-' : 'khalidmansur07@gmail.com', 'Address:-' : 'No.12 Rigiyar zaki', 'Age:-' : '26-32', 'Gender:-' : 'Male', 'State of residence:-' : 'Kano', 'State of origin:-' : 'Jigawa', 'Skill level:-': 'Intermediate level'}\n",
    "umar = {'Name:-' : 'Umar Isah', 'Email:-' : 'Isahumar@gmail.com', 'Address:-' : 'No.12 janbulo kano', 'Age:-' : '23-26', 'Gender:-' : 'Male', 'State of residence:-' : 'Kano', 'State of origin:-' : 'Kano', 'Skill level:-': 'Intermediate level'}\n",
    "maryam = {'Name:-' : 'Maryam Mustapha', 'Email:-' : 'maryam009@gmail.com', 'Address:-' : 'No.3 Limawa Quarters', 'Age:-' : '26-32', 'Gender:-' : 'Female', 'State of residence:-' : 'Jigawa', 'State of origin:-' : 'Kano', 'Skill level:-': 'Beginner level'}\n",
    "\n",
    "# Displaying interface\n",
    "print('WELLCOME TO 3MTT DASHBOARD')\n",
    "# Logging page\n",
    "print('PLEASE ENTER LOGIN DETAILS')\n",
    "\n",
    "\n",
    "# Passing login argument\n",
    "from getpass import getpass\n",
    "# masking loging password\n",
    "password = getpass ('Enter Password ')\n",
    "# Using conditional statement to create argument\n",
    "if (password == '0000'):\n",
    "    print('\\ncorrect!')\n",
    "elif (password != '0000'):\n",
    "    print('\\nincorrect password')\n",
    "elif (password == ''):\n",
    "    print('\\nplease enter password')\n",
    "else:\n",
    "    print('\\nblocked!')\n",
    "    \n",
    "    \n",
    "# Passing argument for the program\n",
    "profile = input('Enter Name ')\n",
    "if profile.lower() == 'amina':\n",
    "    print(amina)\n",
    "elif profile.lower() == 'aisha':\n",
    "    print(aisha)\n",
    "elif profile.lower() == 'khalid':\n",
    "    print(khalid)\n",
    "elif profile.lower() == 'umar':\n",
    "    print(umar)\n",
    "elif profile.lower() == 'maryam':\n",
    "    print(maryam)\n",
    "elif profile.lower() == '':\n",
    "    print('\\nenter name')\n",
    "else:\n",
    "    print('\\ninvalid user')"
   ]
  },
  {
   "cell_type": "code",
   "execution_count": null,
   "id": "f620c737",
   "metadata": {},
   "outputs": [],
   "source": []
  },
  {
   "cell_type": "code",
   "execution_count": null,
   "id": "091eb2cb",
   "metadata": {},
   "outputs": [],
   "source": []
  },
  {
   "cell_type": "code",
   "execution_count": null,
   "id": "132052cd",
   "metadata": {},
   "outputs": [],
   "source": []
  }
 ],
 "metadata": {
  "kernelspec": {
   "display_name": "Python 3 (ipykernel)",
   "language": "python",
   "name": "python3"
  },
  "language_info": {
   "codemirror_mode": {
    "name": "ipython",
    "version": 3
   },
   "file_extension": ".py",
   "mimetype": "text/x-python",
   "name": "python",
   "nbconvert_exporter": "python",
   "pygments_lexer": "ipython3",
   "version": "3.11.5"
  }
 },
 "nbformat": 4,
 "nbformat_minor": 5
}
