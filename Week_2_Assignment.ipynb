{
 "cells": [
  {
   "cell_type": "markdown",
   "id": "43618c6d",
   "metadata": {},
   "source": [
    "# Analyze a small data using Python, documenting the step by step process of data analysis journey"
   ]
  },
  {
   "cell_type": "markdown",
   "id": "af460e89",
   "metadata": {},
   "source": [
    "## importing library"
   ]
  },
  {
   "cell_type": "code",
   "execution_count": 2,
   "id": "2dad12e3",
   "metadata": {},
   "outputs": [],
   "source": [
    "# importing pandas library\n",
    "import pandas as pd "
   ]
  },
  {
   "cell_type": "markdown",
   "id": "8e814250",
   "metadata": {},
   "source": [
    "## importing dataset"
   ]
  },
  {
   "cell_type": "code",
   "execution_count": 7,
   "id": "3c825f89",
   "metadata": {},
   "outputs": [],
   "source": [
    "# uploading dataset\n",
    "dataset = pd.read_excel (r\"C:\\Users\\USER\\Documents\\Data set 3mtt1.xlsx\")"
   ]
  },
  {
   "cell_type": "markdown",
   "id": "0ee1845e",
   "metadata": {},
   "source": [
    "## displaying dataset"
   ]
  },
  {
   "cell_type": "code",
   "execution_count": 8,
   "id": "9e7d530b",
   "metadata": {},
   "outputs": [
    {
     "name": "stdout",
     "output_type": "stream",
     "text": [
      "      Names  Gender  Age Marital status    State        LGA\n",
      "0     Amina  Female   25         Single     Kano      Fagge\n",
      "1     Aisha  Female   23        Married  Katsina     Bakori\n",
      "2    Khalid    Male   28        Married   Jigawa      Dutse\n",
      "3      Umar    Male   26         Single   Jigawa     Kiyawa\n",
      "4    Maryam  Female   27         Single     Kano     Ungogo\n",
      "5  Abubakar    Male   32        Married     Kano   Kumbotso\n",
      "6    Zainab  Female   25        Married   Kaduna      Zaria\n",
      "7    Mansur    Male   29        Married  Plateau  Jos North\n",
      "8    Mariya  Female   28         Single   Kaduna       Lere\n"
     ]
    }
   ],
   "source": [
    "# printing dataset\n",
    "print (dataset)"
   ]
  },
  {
   "cell_type": "markdown",
   "id": "914e40ed",
   "metadata": {},
   "source": [
    "## displaying dataset information"
   ]
  },
  {
   "cell_type": "code",
   "execution_count": 11,
   "id": "ad1845ac",
   "metadata": {},
   "outputs": [
    {
     "name": "stdout",
     "output_type": "stream",
     "text": [
      "<class 'pandas.core.frame.DataFrame'>\n",
      "RangeIndex: 9 entries, 0 to 8\n",
      "Data columns (total 6 columns):\n",
      " #   Column          Non-Null Count  Dtype \n",
      "---  ------          --------------  ----- \n",
      " 0   Names           9 non-null      object\n",
      " 1   Gender          9 non-null      object\n",
      " 2   Age             9 non-null      int64 \n",
      " 3   Marital status  9 non-null      object\n",
      " 4   State           9 non-null      object\n",
      " 5   LGA             9 non-null      object\n",
      "dtypes: int64(1), object(5)\n",
      "memory usage: 564.0+ bytes\n"
     ]
    }
   ],
   "source": [
    "# viewing the dataset\n",
    "dataset.info()"
   ]
  },
  {
   "cell_type": "code",
   "execution_count": 12,
   "id": "c96f5977",
   "metadata": {},
   "outputs": [
    {
     "data": {
      "text/html": [
       "<div>\n",
       "<style scoped>\n",
       "    .dataframe tbody tr th:only-of-type {\n",
       "        vertical-align: middle;\n",
       "    }\n",
       "\n",
       "    .dataframe tbody tr th {\n",
       "        vertical-align: top;\n",
       "    }\n",
       "\n",
       "    .dataframe thead th {\n",
       "        text-align: right;\n",
       "    }\n",
       "</style>\n",
       "<table border=\"1\" class=\"dataframe\">\n",
       "  <thead>\n",
       "    <tr style=\"text-align: right;\">\n",
       "      <th></th>\n",
       "      <th>Age</th>\n",
       "    </tr>\n",
       "  </thead>\n",
       "  <tbody>\n",
       "    <tr>\n",
       "      <th>count</th>\n",
       "      <td>9.000000</td>\n",
       "    </tr>\n",
       "    <tr>\n",
       "      <th>mean</th>\n",
       "      <td>27.000000</td>\n",
       "    </tr>\n",
       "    <tr>\n",
       "      <th>std</th>\n",
       "      <td>2.645751</td>\n",
       "    </tr>\n",
       "    <tr>\n",
       "      <th>min</th>\n",
       "      <td>23.000000</td>\n",
       "    </tr>\n",
       "    <tr>\n",
       "      <th>25%</th>\n",
       "      <td>25.000000</td>\n",
       "    </tr>\n",
       "    <tr>\n",
       "      <th>50%</th>\n",
       "      <td>27.000000</td>\n",
       "    </tr>\n",
       "    <tr>\n",
       "      <th>75%</th>\n",
       "      <td>28.000000</td>\n",
       "    </tr>\n",
       "    <tr>\n",
       "      <th>max</th>\n",
       "      <td>32.000000</td>\n",
       "    </tr>\n",
       "  </tbody>\n",
       "</table>\n",
       "</div>"
      ],
      "text/plain": [
       "             Age\n",
       "count   9.000000\n",
       "mean   27.000000\n",
       "std     2.645751\n",
       "min    23.000000\n",
       "25%    25.000000\n",
       "50%    27.000000\n",
       "75%    28.000000\n",
       "max    32.000000"
      ]
     },
     "execution_count": 12,
     "metadata": {},
     "output_type": "execute_result"
    }
   ],
   "source": [
    "# displaying description\n",
    "dataset.describe()"
   ]
  },
  {
   "cell_type": "markdown",
   "id": "f354547f",
   "metadata": {},
   "source": [
    "## displaying the first and last five elements in dataset"
   ]
  },
  {
   "cell_type": "code",
   "execution_count": 13,
   "id": "35da9dba",
   "metadata": {},
   "outputs": [
    {
     "data": {
      "text/html": [
       "<div>\n",
       "<style scoped>\n",
       "    .dataframe tbody tr th:only-of-type {\n",
       "        vertical-align: middle;\n",
       "    }\n",
       "\n",
       "    .dataframe tbody tr th {\n",
       "        vertical-align: top;\n",
       "    }\n",
       "\n",
       "    .dataframe thead th {\n",
       "        text-align: right;\n",
       "    }\n",
       "</style>\n",
       "<table border=\"1\" class=\"dataframe\">\n",
       "  <thead>\n",
       "    <tr style=\"text-align: right;\">\n",
       "      <th></th>\n",
       "      <th>Names</th>\n",
       "      <th>Gender</th>\n",
       "      <th>Age</th>\n",
       "      <th>Marital status</th>\n",
       "      <th>State</th>\n",
       "      <th>LGA</th>\n",
       "    </tr>\n",
       "  </thead>\n",
       "  <tbody>\n",
       "    <tr>\n",
       "      <th>0</th>\n",
       "      <td>Amina</td>\n",
       "      <td>Female</td>\n",
       "      <td>25</td>\n",
       "      <td>Single</td>\n",
       "      <td>Kano</td>\n",
       "      <td>Fagge</td>\n",
       "    </tr>\n",
       "    <tr>\n",
       "      <th>1</th>\n",
       "      <td>Aisha</td>\n",
       "      <td>Female</td>\n",
       "      <td>23</td>\n",
       "      <td>Married</td>\n",
       "      <td>Katsina</td>\n",
       "      <td>Bakori</td>\n",
       "    </tr>\n",
       "    <tr>\n",
       "      <th>2</th>\n",
       "      <td>Khalid</td>\n",
       "      <td>Male</td>\n",
       "      <td>28</td>\n",
       "      <td>Married</td>\n",
       "      <td>Jigawa</td>\n",
       "      <td>Dutse</td>\n",
       "    </tr>\n",
       "    <tr>\n",
       "      <th>3</th>\n",
       "      <td>Umar</td>\n",
       "      <td>Male</td>\n",
       "      <td>26</td>\n",
       "      <td>Single</td>\n",
       "      <td>Jigawa</td>\n",
       "      <td>Kiyawa</td>\n",
       "    </tr>\n",
       "    <tr>\n",
       "      <th>4</th>\n",
       "      <td>Maryam</td>\n",
       "      <td>Female</td>\n",
       "      <td>27</td>\n",
       "      <td>Single</td>\n",
       "      <td>Kano</td>\n",
       "      <td>Ungogo</td>\n",
       "    </tr>\n",
       "  </tbody>\n",
       "</table>\n",
       "</div>"
      ],
      "text/plain": [
       "    Names  Gender  Age Marital status    State     LGA\n",
       "0   Amina  Female   25         Single     Kano   Fagge\n",
       "1   Aisha  Female   23        Married  Katsina  Bakori\n",
       "2  Khalid    Male   28        Married   Jigawa   Dutse\n",
       "3    Umar    Male   26         Single   Jigawa  Kiyawa\n",
       "4  Maryam  Female   27         Single     Kano  Ungogo"
      ]
     },
     "execution_count": 13,
     "metadata": {},
     "output_type": "execute_result"
    }
   ],
   "source": [
    "# displaying first five element in dataset\n",
    "dataset.head()"
   ]
  },
  {
   "cell_type": "code",
   "execution_count": 14,
   "id": "cd977b71",
   "metadata": {},
   "outputs": [
    {
     "data": {
      "text/html": [
       "<div>\n",
       "<style scoped>\n",
       "    .dataframe tbody tr th:only-of-type {\n",
       "        vertical-align: middle;\n",
       "    }\n",
       "\n",
       "    .dataframe tbody tr th {\n",
       "        vertical-align: top;\n",
       "    }\n",
       "\n",
       "    .dataframe thead th {\n",
       "        text-align: right;\n",
       "    }\n",
       "</style>\n",
       "<table border=\"1\" class=\"dataframe\">\n",
       "  <thead>\n",
       "    <tr style=\"text-align: right;\">\n",
       "      <th></th>\n",
       "      <th>Names</th>\n",
       "      <th>Gender</th>\n",
       "      <th>Age</th>\n",
       "      <th>Marital status</th>\n",
       "      <th>State</th>\n",
       "      <th>LGA</th>\n",
       "    </tr>\n",
       "  </thead>\n",
       "  <tbody>\n",
       "    <tr>\n",
       "      <th>4</th>\n",
       "      <td>Maryam</td>\n",
       "      <td>Female</td>\n",
       "      <td>27</td>\n",
       "      <td>Single</td>\n",
       "      <td>Kano</td>\n",
       "      <td>Ungogo</td>\n",
       "    </tr>\n",
       "    <tr>\n",
       "      <th>5</th>\n",
       "      <td>Abubakar</td>\n",
       "      <td>Male</td>\n",
       "      <td>32</td>\n",
       "      <td>Married</td>\n",
       "      <td>Kano</td>\n",
       "      <td>Kumbotso</td>\n",
       "    </tr>\n",
       "    <tr>\n",
       "      <th>6</th>\n",
       "      <td>Zainab</td>\n",
       "      <td>Female</td>\n",
       "      <td>25</td>\n",
       "      <td>Married</td>\n",
       "      <td>Kaduna</td>\n",
       "      <td>Zaria</td>\n",
       "    </tr>\n",
       "    <tr>\n",
       "      <th>7</th>\n",
       "      <td>Mansur</td>\n",
       "      <td>Male</td>\n",
       "      <td>29</td>\n",
       "      <td>Married</td>\n",
       "      <td>Plateau</td>\n",
       "      <td>Jos North</td>\n",
       "    </tr>\n",
       "    <tr>\n",
       "      <th>8</th>\n",
       "      <td>Mariya</td>\n",
       "      <td>Female</td>\n",
       "      <td>28</td>\n",
       "      <td>Single</td>\n",
       "      <td>Kaduna</td>\n",
       "      <td>Lere</td>\n",
       "    </tr>\n",
       "  </tbody>\n",
       "</table>\n",
       "</div>"
      ],
      "text/plain": [
       "      Names  Gender  Age Marital status    State        LGA\n",
       "4    Maryam  Female   27         Single     Kano     Ungogo\n",
       "5  Abubakar    Male   32        Married     Kano   Kumbotso\n",
       "6    Zainab  Female   25        Married   Kaduna      Zaria\n",
       "7    Mansur    Male   29        Married  Plateau  Jos North\n",
       "8    Mariya  Female   28         Single   Kaduna       Lere"
      ]
     },
     "execution_count": 14,
     "metadata": {},
     "output_type": "execute_result"
    }
   ],
   "source": [
    "# displaying last five in dataset\n",
    "dataset.tail()"
   ]
  },
  {
   "cell_type": "code",
   "execution_count": null,
   "id": "aff09dc6",
   "metadata": {},
   "outputs": [],
   "source": []
  }
 ],
 "metadata": {
  "kernelspec": {
   "display_name": "Python 3 (ipykernel)",
   "language": "python",
   "name": "python3"
  },
  "language_info": {
   "codemirror_mode": {
    "name": "ipython",
    "version": 3
   },
   "file_extension": ".py",
   "mimetype": "text/x-python",
   "name": "python",
   "nbconvert_exporter": "python",
   "pygments_lexer": "ipython3",
   "version": "3.11.5"
  }
 },
 "nbformat": 4,
 "nbformat_minor": 5
}
