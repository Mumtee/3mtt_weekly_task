{
 "cells": [
  {
   "cell_type": "markdown",
   "id": "d19deed7",
   "metadata": {},
   "source": [
    "# Question: Develop a Python script that showcases the basics learned, demonstrating your understanding of python programming"
   ]
  },
  {
   "cell_type": "markdown",
   "id": "62b5dac7",
   "metadata": {},
   "source": [
    "## 1. Creating a variable"
   ]
  },
  {
   "cell_type": "code",
   "execution_count": 1,
   "id": "fa344ebb",
   "metadata": {},
   "outputs": [],
   "source": [
    "# Creating a variable\n",
    "school_name = (\"FUD\")\n",
    "faculty = (\"science\")\n",
    "department = (\"microbiology\")"
   ]
  },
  {
   "cell_type": "code",
   "execution_count": 2,
   "id": "a7f91b25",
   "metadata": {},
   "outputs": [
    {
     "name": "stdout",
     "output_type": "stream",
     "text": [
      "FUD\n",
      "science\n",
      "microbiology\n"
     ]
    }
   ],
   "source": [
    "# displaying variable output\n",
    "print(school_name)\n",
    "print(faculty)\n",
    "print(department)"
   ]
  },
  {
   "cell_type": "markdown",
   "id": "7fa83a2d",
   "metadata": {},
   "source": [
    "## 2. Creating a List"
   ]
  },
  {
   "cell_type": "code",
   "execution_count": 3,
   "id": "956c0362",
   "metadata": {},
   "outputs": [],
   "source": [
    "# creating a list\n",
    "names_3mtt = ['maryam', 'zahraddeen', 'yahya']\n",
    "gender_3mtt = ['F', 'M', \"M\"]\n",
    "reg_no = [\"FE/23/4262357\", \"FE/23/4362908\", \"FE/23/345456362\"]"
   ]
  },
  {
   "cell_type": "code",
   "execution_count": 4,
   "id": "1e097ae4",
   "metadata": {},
   "outputs": [
    {
     "name": "stdout",
     "output_type": "stream",
     "text": [
      "['maryam', 'zahraddeen', 'yahya']\n",
      "['F', 'M', 'M']\n",
      "['FE/23/4262357', 'FE/23/4362908', 'FE/23/345456362']\n"
     ]
    }
   ],
   "source": [
    "print(names_3mtt)\n",
    "print(gender_3mtt)\n",
    "print(reg_no)"
   ]
  },
  {
   "cell_type": "markdown",
   "id": "fef03bfc",
   "metadata": {},
   "source": [
    "## 3. Displaying data type"
   ]
  },
  {
   "cell_type": "code",
   "execution_count": 5,
   "id": "0bf0936a",
   "metadata": {},
   "outputs": [
    {
     "data": {
      "text/plain": [
       "list"
      ]
     },
     "execution_count": 5,
     "metadata": {},
     "output_type": "execute_result"
    }
   ],
   "source": [
    "# displaying the data type\n",
    "type(names_3mtt)"
   ]
  },
  {
   "cell_type": "code",
   "execution_count": 6,
   "id": "b9fc7137",
   "metadata": {},
   "outputs": [
    {
     "data": {
      "text/plain": [
       "list"
      ]
     },
     "execution_count": 6,
     "metadata": {},
     "output_type": "execute_result"
    }
   ],
   "source": [
    "type(gender_3mtt)"
   ]
  },
  {
   "cell_type": "code",
   "execution_count": 7,
   "id": "a2b68621",
   "metadata": {},
   "outputs": [
    {
     "data": {
      "text/plain": [
       "list"
      ]
     },
     "execution_count": 7,
     "metadata": {},
     "output_type": "execute_result"
    }
   ],
   "source": [
    "type(reg_no)"
   ]
  },
  {
   "cell_type": "markdown",
   "id": "4d9544c1",
   "metadata": {},
   "source": [
    "## 4. Len function"
   ]
  },
  {
   "cell_type": "code",
   "execution_count": 8,
   "id": "25da1389",
   "metadata": {},
   "outputs": [],
   "source": [
    "# using the len function\n",
    "name_1 = [\"abba\", \"ahmed\", \"adnan\", \"musa\", \"ali\"]"
   ]
  },
  {
   "cell_type": "code",
   "execution_count": 9,
   "id": "336eeb04",
   "metadata": {},
   "outputs": [
    {
     "data": {
      "text/plain": [
       "5"
      ]
     },
     "execution_count": 9,
     "metadata": {},
     "output_type": "execute_result"
    }
   ],
   "source": [
    "len(name_1)"
   ]
  },
  {
   "cell_type": "markdown",
   "id": "c31a5904",
   "metadata": {},
   "source": [
    "## 5. Functions in a list"
   ]
  },
  {
   "cell_type": "code",
   "execution_count": 10,
   "id": "ed02596c",
   "metadata": {},
   "outputs": [],
   "source": [
    "# appending a list\n",
    "name_1.append(\"auwal\")"
   ]
  },
  {
   "cell_type": "code",
   "execution_count": 11,
   "id": "125f0e36",
   "metadata": {},
   "outputs": [
    {
     "name": "stdout",
     "output_type": "stream",
     "text": [
      "['abba', 'ahmed', 'adnan', 'musa', 'ali', 'auwal']\n"
     ]
    }
   ],
   "source": [
    "print(name_1)"
   ]
  },
  {
   "cell_type": "code",
   "execution_count": 12,
   "id": "9e25c23e",
   "metadata": {},
   "outputs": [],
   "source": [
    "# inserting in a list\n",
    "name_1.insert(1,'umar')"
   ]
  },
  {
   "cell_type": "code",
   "execution_count": 13,
   "id": "f6c848a9",
   "metadata": {},
   "outputs": [
    {
     "name": "stdout",
     "output_type": "stream",
     "text": [
      "['abba', 'umar', 'ahmed', 'adnan', 'musa', 'ali', 'auwal']\n"
     ]
    }
   ],
   "source": [
    "print(name_1)"
   ]
  },
  {
   "cell_type": "code",
   "execution_count": 14,
   "id": "a86345f7",
   "metadata": {},
   "outputs": [],
   "source": [
    "# removing in list\n",
    "name_1.remove(\"ali\")"
   ]
  },
  {
   "cell_type": "code",
   "execution_count": 15,
   "id": "bcf27456",
   "metadata": {},
   "outputs": [
    {
     "name": "stdout",
     "output_type": "stream",
     "text": [
      "['abba', 'umar', 'ahmed', 'adnan', 'musa', 'auwal']\n"
     ]
    }
   ],
   "source": [
    "print(name_1)"
   ]
  },
  {
   "cell_type": "code",
   "execution_count": 16,
   "id": "c1e7afbd",
   "metadata": {},
   "outputs": [
    {
     "data": {
      "text/plain": [
       "'adnan'"
      ]
     },
     "execution_count": 16,
     "metadata": {},
     "output_type": "execute_result"
    }
   ],
   "source": [
    "# popping a list\n",
    "name_1.pop(3)"
   ]
  },
  {
   "cell_type": "code",
   "execution_count": 17,
   "id": "a31ea950",
   "metadata": {},
   "outputs": [],
   "source": [
    "# copying a list\n",
    "name_copy = name_1.copy()"
   ]
  },
  {
   "cell_type": "code",
   "execution_count": 18,
   "id": "01384ae0",
   "metadata": {},
   "outputs": [
    {
     "name": "stdout",
     "output_type": "stream",
     "text": [
      "['abba', 'umar', 'ahmed', 'musa', 'auwal']\n"
     ]
    }
   ],
   "source": [
    "print(name_copy)"
   ]
  },
  {
   "cell_type": "code",
   "execution_count": 19,
   "id": "90d71d7a",
   "metadata": {},
   "outputs": [],
   "source": [
    "# sorting a list\n",
    "name_1.sort()"
   ]
  },
  {
   "cell_type": "code",
   "execution_count": 20,
   "id": "1b4ed193",
   "metadata": {},
   "outputs": [
    {
     "name": "stdout",
     "output_type": "stream",
     "text": [
      "['abba', 'ahmed', 'auwal', 'musa', 'umar']\n"
     ]
    }
   ],
   "source": [
    "print(name_1)"
   ]
  },
  {
   "cell_type": "code",
   "execution_count": 21,
   "id": "fe39862b",
   "metadata": {},
   "outputs": [],
   "source": [
    "# reversing a sorted list\n",
    "name_1.sort(reverse = True)"
   ]
  },
  {
   "cell_type": "code",
   "execution_count": 22,
   "id": "5436e56f",
   "metadata": {},
   "outputs": [
    {
     "name": "stdout",
     "output_type": "stream",
     "text": [
      "['umar', 'musa', 'auwal', 'ahmed', 'abba']\n"
     ]
    }
   ],
   "source": [
    "print (name_1)"
   ]
  },
  {
   "cell_type": "markdown",
   "id": "0e3d8383",
   "metadata": {},
   "source": [
    "## 6. Looping through a list"
   ]
  },
  {
   "cell_type": "code",
   "execution_count": 25,
   "id": "0e0d5fe2",
   "metadata": {},
   "outputs": [
    {
     "name": "stdout",
     "output_type": "stream",
     "text": [
      "\n",
      "Thank you for coming umar\n",
      "\n",
      "Thank you for coming musa\n",
      "\n",
      "Thank you for coming auwal\n",
      "\n",
      "Thank you for coming ahmed\n",
      "\n",
      "Thank you for coming abba\n"
     ]
    }
   ],
   "source": [
    "# using for loop in a list\n",
    "for name in name_1:\n",
    "    print(f\"\\nThank you for coming\",name )"
   ]
  }
 ],
 "metadata": {
  "kernelspec": {
   "display_name": "Python 3 (ipykernel)",
   "language": "python",
   "name": "python3"
  },
  "language_info": {
   "codemirror_mode": {
    "name": "ipython",
    "version": 3
   },
   "file_extension": ".py",
   "mimetype": "text/x-python",
   "name": "python",
   "nbconvert_exporter": "python",
   "pygments_lexer": "ipython3",
   "version": "3.11.5"
  }
 },
 "nbformat": 4,
 "nbformat_minor": 5
}
